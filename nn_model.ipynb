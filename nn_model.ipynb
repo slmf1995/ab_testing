{
 "cells": [
  {
   "cell_type": "markdown",
   "id": "1769ab29-5057-4dd2-9f89-8618164c66d0",
   "metadata": {
    "tags": []
   },
   "source": [
    "# Normal-normal model\n",
    "The goal of this notebook is to provide a step-by-step guide for conducting a Bayesian A/B test using the normal-normal model. We will assume that we are testing two versions of a website, a control version (A) and a variation (B). Our metric of interest is the resulting mean of a continuous variable across 2 groups.\n",
    "\n",
    "To illustrate the process, we will use a sample dataset that contains `count_* = number of observations in group *` and `avg_* = mean value for group *` and `std_* = standard deviation in group *` for groups A and B.\n",
    "\n",
    "Here is an example of what the data might look like:"
   ]
  },
  {
   "cell_type": "code",
   "execution_count": 1,
   "id": "86647243-eaf7-46b8-83e7-a4c39219a3f7",
   "metadata": {},
   "outputs": [],
   "source": [
    "from nn_helpers import *\n",
    "import pandas as pd\n",
    "import numpy as np"
   ]
  },
  {
   "cell_type": "code",
   "execution_count": 2,
   "id": "91b42a90-452a-402e-8601-d7d8a2c68278",
   "metadata": {
    "tags": []
   },
   "outputs": [],
   "source": [
    "# Set the random seed to generate a distribution for the control group 0A\n",
    "np.random.seed(123)\n",
    "dist_0A = np.random.lognormal(mean=1, sigma=0.5, size=1000)\n",
    "\n",
    "# Set the random seed to generate a different distribution for the test group 0B\n",
    "np.random.seed(234)\n",
    "dist_0B = np.random.lognormal(mean=1.01, sigma=0.6, size=1000)\n",
    "\n",
    "# Set the random seed to generate a different distribution for the control group 1A\n",
    "np.random.seed(345)\n",
    "dist_1A = np.random.lognormal(mean=2, sigma=1, size=1000)\n",
    "\n",
    "# Set the random seed to generate a different distribution for the test group 1B\n",
    "np.random.seed(456)\n",
    "dist_1B = np.random.lognormal(mean=1.98, sigma=0.8, size=1000)"
   ]
  },
  {
   "cell_type": "code",
   "execution_count": 3,
   "id": "77d12f0a-ce39-4dd0-b573-6deb1c08e5e1",
   "metadata": {},
   "outputs": [
    {
     "data": {
      "text/html": [
       "<div>\n",
       "<style scoped>\n",
       "    .dataframe tbody tr th:only-of-type {\n",
       "        vertical-align: middle;\n",
       "    }\n",
       "\n",
       "    .dataframe tbody tr th {\n",
       "        vertical-align: top;\n",
       "    }\n",
       "\n",
       "    .dataframe thead th {\n",
       "        text-align: right;\n",
       "    }\n",
       "</style>\n",
       "<table border=\"1\" class=\"dataframe\">\n",
       "  <thead>\n",
       "    <tr style=\"text-align: right;\">\n",
       "      <th></th>\n",
       "      <th>metric</th>\n",
       "      <th>count_A</th>\n",
       "      <th>avg_A</th>\n",
       "      <th>std_A</th>\n",
       "      <th>count_B</th>\n",
       "      <th>avg_B</th>\n",
       "      <th>std_B</th>\n",
       "    </tr>\n",
       "  </thead>\n",
       "  <tbody>\n",
       "    <tr>\n",
       "      <th>0</th>\n",
       "      <td>RPU (Channel A)</td>\n",
       "      <td>80000</td>\n",
       "      <td>3.018580</td>\n",
       "      <td>1.599183</td>\n",
       "      <td>80000</td>\n",
       "      <td>3.308413</td>\n",
       "      <td>2.277467</td>\n",
       "    </tr>\n",
       "    <tr>\n",
       "      <th>1</th>\n",
       "      <td>RPU (Channel B)</td>\n",
       "      <td>1000</td>\n",
       "      <td>11.548615</td>\n",
       "      <td>14.059698</td>\n",
       "      <td>1000</td>\n",
       "      <td>9.963319</td>\n",
       "      <td>9.351295</td>\n",
       "    </tr>\n",
       "  </tbody>\n",
       "</table>\n",
       "</div>"
      ],
      "text/plain": [
       "            metric  count_A      avg_A      std_A  count_B     avg_B     std_B\n",
       "0  RPU (Channel A)    80000   3.018580   1.599183    80000  3.308413  2.277467\n",
       "1  RPU (Channel B)     1000  11.548615  14.059698     1000  9.963319  9.351295"
      ]
     },
     "execution_count": 3,
     "metadata": {},
     "output_type": "execute_result"
    }
   ],
   "source": [
    "# Define a dictionary with the data for the AB test\n",
    "data = {\n",
    "    \"metric\": [\"RPU (Channel A)\", \"RPU (Channel B)\"],\n",
    "    \"count_A\": [80000, 1000],\n",
    "    \"avg_A\": [np.mean(dist_0A), np.mean(dist_1A)],\n",
    "    \"std_A\": [np.std(dist_0A), np.std(dist_1A)],\n",
    "    \"count_B\": [80000, 1000],\n",
    "    \"avg_B\": [np.mean(dist_0B), np.mean(dist_1B)],\n",
    "    \"std_B\": [np.std(dist_0B), np.std(dist_1B)],\n",
    "}\n",
    "\n",
    "df = pd.DataFrame(data)\n",
    "df.head()"
   ]
  },
  {
   "cell_type": "markdown",
   "id": "85d97de6-fcfc-4882-ad41-b9239befcc85",
   "metadata": {},
   "source": [
    "We will assume that the average for version A is the baseline revenue per user (RPU), and we want to determine whether version B has a higher or lower RPU."
   ]
  },
  {
   "cell_type": "markdown",
   "id": "6e50cc63-2d4f-4441-8095-9d931a5225a0",
   "metadata": {
    "tags": []
   },
   "source": [
    "## Setting a Normal prior\n",
    "For now, we'll proceed a non-informative prior by setting `n_0 = 0`, `mu_0 = 0` and `sigma_0 = 1`."
   ]
  },
  {
   "cell_type": "code",
   "execution_count": 4,
   "id": "48370d0d-91f5-465a-8ea2-35f3b62a265d",
   "metadata": {
    "tags": []
   },
   "outputs": [],
   "source": [
    "n_0 = 0\n",
    "mu_0 = 0\n",
    "sigma_0 = 1"
   ]
  },
  {
   "cell_type": "markdown",
   "id": "7f632674-2bfe-43cd-8302-ace2c13d6674",
   "metadata": {
    "tags": []
   },
   "source": [
    "## Update normal prior"
   ]
  },
  {
   "cell_type": "code",
   "execution_count": 5,
   "id": "87b36011-1615-4b61-bb51-95ef14fe41ff",
   "metadata": {},
   "outputs": [],
   "source": [
    "# Set the number of samples to draw from the count. This should be at least 30 for CLT\n",
    "num_of_samples = 100\n",
    "\n",
    "# Calculate the updated parameters for the normal prior for version A\n",
    "params_A = df.apply(\n",
    "    lambda x: update_normal_prior(\n",
    "        x[\"count_A\"] / num_of_samples, x[\"avg_A\"], x[\"std_A\"], n_0, mu_0, sigma_0\n",
    "    ),\n",
    "    axis=1,\n",
    ")\n",
    "\n",
    "# Calculate the updated parameters for the normal prior for version B\n",
    "params_B = df.apply(\n",
    "    lambda x: update_normal_prior(\n",
    "        x[\"count_B\"] / num_of_samples, x[\"avg_B\"], x[\"std_B\"], n_0, mu_0, sigma_0\n",
    "    ),\n",
    "    axis=1,\n",
    ")"
   ]
  },
  {
   "cell_type": "code",
   "execution_count": 6,
   "id": "483e154b-0aab-4b06-8d91-b123483d0307",
   "metadata": {
    "tags": []
   },
   "outputs": [
    {
     "data": {
      "text/html": [
       "<div>\n",
       "<style scoped>\n",
       "    .dataframe tbody tr th:only-of-type {\n",
       "        vertical-align: middle;\n",
       "    }\n",
       "\n",
       "    .dataframe tbody tr th {\n",
       "        vertical-align: top;\n",
       "    }\n",
       "\n",
       "    .dataframe thead th {\n",
       "        text-align: right;\n",
       "    }\n",
       "</style>\n",
       "<table border=\"1\" class=\"dataframe\">\n",
       "  <thead>\n",
       "    <tr style=\"text-align: right;\">\n",
       "      <th></th>\n",
       "      <th>metric</th>\n",
       "      <th>count_A</th>\n",
       "      <th>avg_A</th>\n",
       "      <th>std_A</th>\n",
       "      <th>count_B</th>\n",
       "      <th>avg_B</th>\n",
       "      <th>std_B</th>\n",
       "      <th>mu_A</th>\n",
       "      <th>sigma_A</th>\n",
       "      <th>mu_B</th>\n",
       "      <th>sigma_B</th>\n",
       "    </tr>\n",
       "  </thead>\n",
       "  <tbody>\n",
       "    <tr>\n",
       "      <th>0</th>\n",
       "      <td>RPU (Channel A)</td>\n",
       "      <td>80000</td>\n",
       "      <td>3.018580</td>\n",
       "      <td>1.599183</td>\n",
       "      <td>80000</td>\n",
       "      <td>3.308413</td>\n",
       "      <td>2.277467</td>\n",
       "      <td>3.018580</td>\n",
       "      <td>0.056540</td>\n",
       "      <td>3.308413</td>\n",
       "      <td>0.080521</td>\n",
       "    </tr>\n",
       "    <tr>\n",
       "      <th>1</th>\n",
       "      <td>RPU (Channel B)</td>\n",
       "      <td>1000</td>\n",
       "      <td>11.548615</td>\n",
       "      <td>14.059698</td>\n",
       "      <td>1000</td>\n",
       "      <td>9.963319</td>\n",
       "      <td>9.351295</td>\n",
       "      <td>11.548615</td>\n",
       "      <td>4.446067</td>\n",
       "      <td>9.963319</td>\n",
       "      <td>2.957139</td>\n",
       "    </tr>\n",
       "  </tbody>\n",
       "</table>\n",
       "</div>"
      ],
      "text/plain": [
       "            metric  count_A      avg_A      std_A  count_B     avg_B   \n",
       "0  RPU (Channel A)    80000   3.018580   1.599183    80000  3.308413  \\\n",
       "1  RPU (Channel B)     1000  11.548615  14.059698     1000  9.963319   \n",
       "\n",
       "      std_B       mu_A   sigma_A      mu_B   sigma_B  \n",
       "0  2.277467   3.018580  0.056540  3.308413  0.080521  \n",
       "1  9.351295  11.548615  4.446067  9.963319  2.957139  "
      ]
     },
     "execution_count": 6,
     "metadata": {},
     "output_type": "execute_result"
    }
   ],
   "source": [
    "# Add the updated parameters for the normal prior to the DataFrame\n",
    "df = df.assign(\n",
    "    mu_A=params_A.apply(lambda x: x[0]).values,\n",
    "    sigma_A=params_A.apply(lambda x: x[1]).values,\n",
    "    mu_B=params_B.apply(lambda x: x[0]).values,\n",
    "    sigma_B=params_B.apply(lambda x: x[1]).values,\n",
    ")\n",
    "df.head()"
   ]
  },
  {
   "cell_type": "markdown",
   "id": "e097a255-7384-4a8b-881e-ce4c5af05bfa",
   "metadata": {
    "tags": []
   },
   "source": [
    "## Bayesian inference"
   ]
  },
  {
   "cell_type": "code",
   "execution_count": 7,
   "id": "a3e65df6-94cf-4453-a04c-ac24028dc870",
   "metadata": {
    "tags": []
   },
   "outputs": [],
   "source": [
    "# Calculate the difference between the normal distributions for versions A and B\n",
    "dnorm = df.apply(\n",
    "    lambda x: dnorm_B_minus_A(x[\"mu_A\"], x[\"sigma_A\"], x[\"mu_B\"], x[\"sigma_B\"]), axis=1\n",
    ")\n",
    "\n",
    "# Calculate the probability that version B is higher than version A\n",
    "prob_B_higher = dnorm.apply(lambda x: x.sf(0))"
   ]
  },
  {
   "cell_type": "code",
   "execution_count": 8,
   "id": "d19bb051-acad-4216-a109-1fa22cf4f627",
   "metadata": {},
   "outputs": [],
   "source": [
    "# Add the difference and probability to the DataFrame\n",
    "df = df.assign(dnorm=dnorm, prob_B_higher=prob_B_higher.values)"
   ]
  },
  {
   "cell_type": "code",
   "execution_count": 9,
   "id": "d3edaa05-0d46-4b1c-9816-c0352209629d",
   "metadata": {},
   "outputs": [
    {
     "data": {
      "text/html": [
       "<div>\n",
       "<style scoped>\n",
       "    .dataframe tbody tr th:only-of-type {\n",
       "        vertical-align: middle;\n",
       "    }\n",
       "\n",
       "    .dataframe tbody tr th {\n",
       "        vertical-align: top;\n",
       "    }\n",
       "\n",
       "    .dataframe thead th {\n",
       "        text-align: right;\n",
       "    }\n",
       "</style>\n",
       "<table border=\"1\" class=\"dataframe\">\n",
       "  <thead>\n",
       "    <tr style=\"text-align: right;\">\n",
       "      <th></th>\n",
       "      <th>metric</th>\n",
       "      <th>count_A</th>\n",
       "      <th>avg_A</th>\n",
       "      <th>std_A</th>\n",
       "      <th>count_B</th>\n",
       "      <th>avg_B</th>\n",
       "      <th>std_B</th>\n",
       "      <th>mu_A</th>\n",
       "      <th>sigma_A</th>\n",
       "      <th>mu_B</th>\n",
       "      <th>sigma_B</th>\n",
       "      <th>dnorm</th>\n",
       "      <th>prob_B_higher</th>\n",
       "    </tr>\n",
       "  </thead>\n",
       "  <tbody>\n",
       "    <tr>\n",
       "      <th>0</th>\n",
       "      <td>RPU (Channel A)</td>\n",
       "      <td>80000</td>\n",
       "      <td>3.018580</td>\n",
       "      <td>1.599183</td>\n",
       "      <td>80000</td>\n",
       "      <td>3.308413</td>\n",
       "      <td>2.277467</td>\n",
       "      <td>3.018580</td>\n",
       "      <td>0.056540</td>\n",
       "      <td>3.308413</td>\n",
       "      <td>0.080521</td>\n",
       "      <td>&lt;scipy.stats._distn_infrastructure.rv_continuo...</td>\n",
       "      <td>0.998389</td>\n",
       "    </tr>\n",
       "    <tr>\n",
       "      <th>1</th>\n",
       "      <td>RPU (Channel B)</td>\n",
       "      <td>1000</td>\n",
       "      <td>11.548615</td>\n",
       "      <td>14.059698</td>\n",
       "      <td>1000</td>\n",
       "      <td>9.963319</td>\n",
       "      <td>9.351295</td>\n",
       "      <td>11.548615</td>\n",
       "      <td>4.446067</td>\n",
       "      <td>9.963319</td>\n",
       "      <td>2.957139</td>\n",
       "      <td>&lt;scipy.stats._distn_infrastructure.rv_continuo...</td>\n",
       "      <td>0.383275</td>\n",
       "    </tr>\n",
       "  </tbody>\n",
       "</table>\n",
       "</div>"
      ],
      "text/plain": [
       "            metric  count_A      avg_A      std_A  count_B     avg_B   \n",
       "0  RPU (Channel A)    80000   3.018580   1.599183    80000  3.308413  \\\n",
       "1  RPU (Channel B)     1000  11.548615  14.059698     1000  9.963319   \n",
       "\n",
       "      std_B       mu_A   sigma_A      mu_B   sigma_B   \n",
       "0  2.277467   3.018580  0.056540  3.308413  0.080521  \\\n",
       "1  9.351295  11.548615  4.446067  9.963319  2.957139   \n",
       "\n",
       "                                               dnorm  prob_B_higher  \n",
       "0  <scipy.stats._distn_infrastructure.rv_continuo...       0.998389  \n",
       "1  <scipy.stats._distn_infrastructure.rv_continuo...       0.383275  "
      ]
     },
     "execution_count": 9,
     "metadata": {},
     "output_type": "execute_result"
    }
   ],
   "source": [
    "df.head()"
   ]
  },
  {
   "cell_type": "code",
   "execution_count": 10,
   "id": "a9656716-145a-40fe-9fb9-03c653c9c80a",
   "metadata": {
    "tags": []
   },
   "outputs": [
    {
     "data": {
      "image/png": "[encoded data removed]",
      "text/plain": [
       "<Figure size 640x480 with 1 Axes>"
      ]
     },
     "metadata": {},
     "output_type": "display_data"
    },
    {
     "name": "stdout",
     "output_type": "stream",
     "text": [
      "Variant A performed avg_A = 3.0186, std_A = 1.5992 vs avg_B = 3.3084, std_B = 2.2775.\n",
      "avg_B is +0.2898 higher than avg_A.\n",
      "You can be 100% confident that this is a result of the changes you made and not a result of random chance.\n"
     ]
    }
   ],
   "source": [
    "explain_prob_B_higher(df, 0)"
   ]
  },
  {
   "cell_type": "code",
   "execution_count": 11,
   "id": "294e94bf-d825-42a1-8c2a-6e04aa3aa463",
   "metadata": {
    "tags": []
   },
   "outputs": [
    {
     "data": {
      "image/png": "[encoded data removed]",
      "text/plain": [
       "<Figure size 640x480 with 1 Axes>"
      ]
     },
     "metadata": {},
     "output_type": "display_data"
    },
    {
     "name": "stdout",
     "output_type": "stream",
     "text": [
      "Variant A performed avg_A = 11.5486, std_A = 14.0597 vs avg_B = 9.9633, std_B = 9.3513.\n",
      "avg_B is -1.5853 lower than avg_A.\n",
      "You can be 62% confident that this is a result of the changes you made and not a result of random chance.\n"
     ]
    }
   ],
   "source": [
    "explain_prob_B_higher(df, 1)"
   ]
  },
  {
   "cell_type": "code",
   "execution_count": null,
   "id": "6d442bd8-153b-431e-ba0b-0e634c1c08c9",
   "metadata": {},
   "outputs": [],
   "source": []
  }
 ],
 "metadata": {
  "kernelspec": {
   "display_name": "myenv",
   "language": "python",
   "name": "python3"
  },
  "language_info": {
   "codemirror_mode": {
    "name": "ipython",
    "version": 3
   },
   "file_extension": ".py",
   "mimetype": "text/x-python",
   "name": "python",
   "nbconvert_exporter": "python",
   "pygments_lexer": "ipython3",
   "version": "3.11.3"
  }
 },
 "nbformat": 4,
 "nbformat_minor": 5
}
