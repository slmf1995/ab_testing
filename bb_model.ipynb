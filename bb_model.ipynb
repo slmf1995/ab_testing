{
 "cells": [
  {
   "cell_type": "markdown",
   "id": "1769ab29-5057-4dd2-9f89-8618164c66d0",
   "metadata": {
    "tags": []
   },
   "source": [
    "# Beta-binomial model\n",
    "The goal of this notebook is to provide a step-by-step guide for conducting a Bayesian A/B test using the beta-binomial model. We will assume that we are testing two versions of a website, a control version (A) and a variation (B). Our metric of interest is the resulting CTR across 2 channels.\n",
    "\n",
    "To illustrate the process, we will use a sample dataset that contains `trials = number of visitors` and `success = conversions` for each version of the website over a certain time period.\n",
    "\n",
    "Here is an example of what the data might look like:"
   ]
  },
  {
   "cell_type": "code",
   "execution_count": 1,
   "id": "86647243-eaf7-46b8-83e7-a4c39219a3f7",
   "metadata": {},
   "outputs": [],
   "source": [
    "from bb_helpers import *\n",
    "import numpy as np\n",
    "import pandas as pd"
   ]
  },
  {
   "cell_type": "code",
   "execution_count": 2,
   "id": "77d12f0a-ce39-4dd0-b573-6deb1c08e5e1",
   "metadata": {},
   "outputs": [],
   "source": [
    "# Define a dictionary with the data for the AB test\n",
    "data = {\n",
    "    'metric': ['CTR (Channel A)', 'CTR (Channel B)'],\n",
    "    'trials_A': [80000, 1000],\n",
    "    'success_A': [1600, 120],\n",
    "    'trials_B': [80000, 1000],\n",
    "    'success_B': [1696, 90]\n",
    "}\n",
    "\n",
    "df = pd.DataFrame(data)"
   ]
  },
  {
   "cell_type": "code",
   "execution_count": 3,
   "id": "52279a0d-5879-40a8-9ece-aa8c550deec0",
   "metadata": {
    "tags": []
   },
   "outputs": [],
   "source": [
    "# Calculate the conversion rates for each version\n",
    "p_A = df['success_A'] / df['trials_A']\n",
    "p_B = df['success_B'] / df['trials_B']\n",
    "df = df.assign(p_A=p_A.values, p_B=p_B.values)"
   ]
  },
  {
   "cell_type": "code",
   "execution_count": 4,
   "id": "795aff25-87d2-4dfb-b25a-b9ed150e21d3",
   "metadata": {
    "tags": []
   },
   "outputs": [
    {
     "data": {
      "text/html": [
       "<div>\n",
       "<style scoped>\n",
       "    .dataframe tbody tr th:only-of-type {\n",
       "        vertical-align: middle;\n",
       "    }\n",
       "\n",
       "    .dataframe tbody tr th {\n",
       "        vertical-align: top;\n",
       "    }\n",
       "\n",
       "    .dataframe thead th {\n",
       "        text-align: right;\n",
       "    }\n",
       "</style>\n",
       "<table border=\"1\" class=\"dataframe\">\n",
       "  <thead>\n",
       "    <tr style=\"text-align: right;\">\n",
       "      <th></th>\n",
       "      <th>metric</th>\n",
       "      <th>trials_A</th>\n",
       "      <th>success_A</th>\n",
       "      <th>trials_B</th>\n",
       "      <th>success_B</th>\n",
       "      <th>p_A</th>\n",
       "      <th>p_B</th>\n",
       "    </tr>\n",
       "  </thead>\n",
       "  <tbody>\n",
       "    <tr>\n",
       "      <th>0</th>\n",
       "      <td>CTR (Channel A)</td>\n",
       "      <td>80000</td>\n",
       "      <td>1600</td>\n",
       "      <td>80000</td>\n",
       "      <td>1696</td>\n",
       "      <td>0.02</td>\n",
       "      <td>0.0212</td>\n",
       "    </tr>\n",
       "    <tr>\n",
       "      <th>1</th>\n",
       "      <td>CTR (Channel B)</td>\n",
       "      <td>1000</td>\n",
       "      <td>120</td>\n",
       "      <td>1000</td>\n",
       "      <td>90</td>\n",
       "      <td>0.12</td>\n",
       "      <td>0.0900</td>\n",
       "    </tr>\n",
       "  </tbody>\n",
       "</table>\n",
       "</div>"
      ],
      "text/plain": [
       "            metric  trials_A  success_A  trials_B  success_B   p_A     p_B\n",
       "0  CTR (Channel A)     80000       1600     80000       1696  0.02  0.0212\n",
       "1  CTR (Channel B)      1000        120      1000         90  0.12  0.0900"
      ]
     },
     "execution_count": 4,
     "metadata": {},
     "output_type": "execute_result"
    }
   ],
   "source": [
    "df.head()"
   ]
  },
  {
   "cell_type": "markdown",
   "id": "8c3b5c39-4284-4e25-9dfd-94509353d120",
   "metadata": {},
   "source": [
    "We will assume that the CTR for version A is the baseline conversion rate, and we want to determine whether version B has a higher or lower conversion rate."
   ]
  },
  {
   "cell_type": "markdown",
   "id": "6e50cc63-2d4f-4441-8095-9d931a5225a0",
   "metadata": {
    "tags": []
   },
   "source": [
    "# Setting a Beta prior\n",
    "For now, we'll proceed a non-informative prior by setting `alpha_0 = beta_0 = 1`."
   ]
  },
  {
   "cell_type": "code",
   "execution_count": 5,
   "id": "48370d0d-91f5-465a-8ea2-35f3b62a265d",
   "metadata": {
    "tags": []
   },
   "outputs": [],
   "source": [
    "alpha_0 = 1\n",
    "beta_0 = 1"
   ]
  },
  {
   "cell_type": "markdown",
   "id": "7f632674-2bfe-43cd-8302-ace2c13d6674",
   "metadata": {
    "tags": []
   },
   "source": [
    "# Update beta prior"
   ]
  },
  {
   "cell_type": "code",
   "execution_count": 6,
   "id": "87b36011-1615-4b61-bb51-95ef14fe41ff",
   "metadata": {},
   "outputs": [],
   "source": [
    "# Calculate the updated parameters for the beta prior for version A\n",
    "params_A = df.apply(lambda x: update_beta_prior(\n",
    "    x['trials_A'], x['success_A'], alpha_0, beta_0), axis=1)\n",
    "\n",
    "# Calculate the updated parameters for the beta prior for version B\n",
    "params_B = df.apply(lambda x: update_beta_prior(\n",
    "    x['trials_B'], x['success_B'], alpha_0, beta_0), axis=1)"
   ]
  },
  {
   "cell_type": "code",
   "execution_count": 7,
   "id": "4da09c3d-dd14-438f-aa5d-320828ffc37c",
   "metadata": {
    "tags": []
   },
   "outputs": [],
   "source": [
    "# Add the updated parameters for the beta prior to the DataFrame\n",
    "df = df.assign(alpha_A=params_A.apply(lambda x: x[0]).values,\n",
    "               beta_A=params_A.apply(lambda x: x[1]).values,\n",
    "               alpha_B=params_B.apply(lambda x: x[0]).values,\n",
    "               beta_B=params_B.apply(lambda x: x[1]).values)"
   ]
  },
  {
   "cell_type": "code",
   "execution_count": 8,
   "id": "483e154b-0aab-4b06-8d91-b123483d0307",
   "metadata": {
    "tags": []
   },
   "outputs": [
    {
     "data": {
      "text/html": [
       "<div>\n",
       "<style scoped>\n",
       "    .dataframe tbody tr th:only-of-type {\n",
       "        vertical-align: middle;\n",
       "    }\n",
       "\n",
       "    .dataframe tbody tr th {\n",
       "        vertical-align: top;\n",
       "    }\n",
       "\n",
       "    .dataframe thead th {\n",
       "        text-align: right;\n",
       "    }\n",
       "</style>\n",
       "<table border=\"1\" class=\"dataframe\">\n",
       "  <thead>\n",
       "    <tr style=\"text-align: right;\">\n",
       "      <th></th>\n",
       "      <th>metric</th>\n",
       "      <th>trials_A</th>\n",
       "      <th>success_A</th>\n",
       "      <th>trials_B</th>\n",
       "      <th>success_B</th>\n",
       "      <th>p_A</th>\n",
       "      <th>p_B</th>\n",
       "      <th>alpha_A</th>\n",
       "      <th>beta_A</th>\n",
       "      <th>alpha_B</th>\n",
       "      <th>beta_B</th>\n",
       "    </tr>\n",
       "  </thead>\n",
       "  <tbody>\n",
       "    <tr>\n",
       "      <th>0</th>\n",
       "      <td>CTR (Channel A)</td>\n",
       "      <td>80000</td>\n",
       "      <td>1600</td>\n",
       "      <td>80000</td>\n",
       "      <td>1696</td>\n",
       "      <td>0.02</td>\n",
       "      <td>0.0212</td>\n",
       "      <td>1601</td>\n",
       "      <td>78401</td>\n",
       "      <td>1697</td>\n",
       "      <td>78305</td>\n",
       "    </tr>\n",
       "    <tr>\n",
       "      <th>1</th>\n",
       "      <td>CTR (Channel B)</td>\n",
       "      <td>1000</td>\n",
       "      <td>120</td>\n",
       "      <td>1000</td>\n",
       "      <td>90</td>\n",
       "      <td>0.12</td>\n",
       "      <td>0.0900</td>\n",
       "      <td>121</td>\n",
       "      <td>881</td>\n",
       "      <td>91</td>\n",
       "      <td>911</td>\n",
       "    </tr>\n",
       "  </tbody>\n",
       "</table>\n",
       "</div>"
      ],
      "text/plain": [
       "            metric  trials_A  success_A  trials_B  success_B   p_A     p_B   \n",
       "0  CTR (Channel A)     80000       1600     80000       1696  0.02  0.0212  \\\n",
       "1  CTR (Channel B)      1000        120      1000         90  0.12  0.0900   \n",
       "\n",
       "   alpha_A  beta_A  alpha_B  beta_B  \n",
       "0     1601   78401     1697   78305  \n",
       "1      121     881       91     911  "
      ]
     },
     "execution_count": 8,
     "metadata": {},
     "output_type": "execute_result"
    }
   ],
   "source": [
    "df.head()"
   ]
  },
  {
   "cell_type": "markdown",
   "id": "e097a255-7384-4a8b-881e-ce4c5af05bfa",
   "metadata": {
    "tags": []
   },
   "source": [
    "# Bayesian inference"
   ]
  },
  {
   "cell_type": "code",
   "execution_count": 9,
   "id": "81725372-68a1-476a-89d2-66ddb22197ba",
   "metadata": {
    "tags": []
   },
   "outputs": [],
   "source": [
    "# Calculate the difference between the beta distributions for versions A and B\n",
    "dbeta = df.apply(lambda x: dbeta_B_minus_A(\n",
    "    x['alpha_A'], x['beta_A'], x['alpha_B'], x['beta_B']), axis=1)\n",
    "\n",
    "# Calculate the probability that version B is higher than version A\n",
    "prob_B_higher = dbeta.apply(lambda x: x.sf(0))"
   ]
  },
  {
   "cell_type": "code",
   "execution_count": 10,
   "id": "c66829c2-81be-40d8-aff2-25e61b4af8b3",
   "metadata": {
    "tags": []
   },
   "outputs": [],
   "source": [
    "# Add the difference and probability to the DataFrame\n",
    "df = df.assign(dbeta=dbeta, prob_B_higher=prob_B_higher.values)"
   ]
  },
  {
   "cell_type": "code",
   "execution_count": 11,
   "id": "2e0ad488-767c-4965-a8aa-e6196e1fe033",
   "metadata": {
    "tags": []
   },
   "outputs": [
    {
     "data": {
      "text/html": [
       "<div>\n",
       "<style scoped>\n",
       "    .dataframe tbody tr th:only-of-type {\n",
       "        vertical-align: middle;\n",
       "    }\n",
       "\n",
       "    .dataframe tbody tr th {\n",
       "        vertical-align: top;\n",
       "    }\n",
       "\n",
       "    .dataframe thead th {\n",
       "        text-align: right;\n",
       "    }\n",
       "</style>\n",
       "<table border=\"1\" class=\"dataframe\">\n",
       "  <thead>\n",
       "    <tr style=\"text-align: right;\">\n",
       "      <th></th>\n",
       "      <th>metric</th>\n",
       "      <th>trials_A</th>\n",
       "      <th>success_A</th>\n",
       "      <th>trials_B</th>\n",
       "      <th>success_B</th>\n",
       "      <th>p_A</th>\n",
       "      <th>p_B</th>\n",
       "      <th>alpha_A</th>\n",
       "      <th>beta_A</th>\n",
       "      <th>alpha_B</th>\n",
       "      <th>beta_B</th>\n",
       "      <th>dbeta</th>\n",
       "      <th>prob_B_higher</th>\n",
       "    </tr>\n",
       "  </thead>\n",
       "  <tbody>\n",
       "    <tr>\n",
       "      <th>0</th>\n",
       "      <td>CTR (Channel A)</td>\n",
       "      <td>80000</td>\n",
       "      <td>1600</td>\n",
       "      <td>80000</td>\n",
       "      <td>1696</td>\n",
       "      <td>0.02</td>\n",
       "      <td>0.0212</td>\n",
       "      <td>1601</td>\n",
       "      <td>78401</td>\n",
       "      <td>1697</td>\n",
       "      <td>78305</td>\n",
       "      <td>&lt;scipy.stats._distn_infrastructure.rv_continuo...</td>\n",
       "      <td>0.954407</td>\n",
       "    </tr>\n",
       "    <tr>\n",
       "      <th>1</th>\n",
       "      <td>CTR (Channel B)</td>\n",
       "      <td>1000</td>\n",
       "      <td>120</td>\n",
       "      <td>1000</td>\n",
       "      <td>90</td>\n",
       "      <td>0.12</td>\n",
       "      <td>0.0900</td>\n",
       "      <td>121</td>\n",
       "      <td>881</td>\n",
       "      <td>91</td>\n",
       "      <td>911</td>\n",
       "      <td>&lt;scipy.stats._distn_infrastructure.rv_continuo...</td>\n",
       "      <td>0.014534</td>\n",
       "    </tr>\n",
       "  </tbody>\n",
       "</table>\n",
       "</div>"
      ],
      "text/plain": [
       "            metric  trials_A  success_A  trials_B  success_B   p_A     p_B   \n",
       "0  CTR (Channel A)     80000       1600     80000       1696  0.02  0.0212  \\\n",
       "1  CTR (Channel B)      1000        120      1000         90  0.12  0.0900   \n",
       "\n",
       "   alpha_A  beta_A  alpha_B  beta_B   \n",
       "0     1601   78401     1697   78305  \\\n",
       "1      121     881       91     911   \n",
       "\n",
       "                                               dbeta  prob_B_higher  \n",
       "0  <scipy.stats._distn_infrastructure.rv_continuo...       0.954407  \n",
       "1  <scipy.stats._distn_infrastructure.rv_continuo...       0.014534  "
      ]
     },
     "execution_count": 11,
     "metadata": {},
     "output_type": "execute_result"
    }
   ],
   "source": [
    "df.head()"
   ]
  },
  {
   "cell_type": "code",
   "execution_count": 12,
   "id": "a9656716-145a-40fe-9fb9-03c653c9c80a",
   "metadata": {
    "tags": []
   },
   "outputs": [
    {
     "data": {
      "image/png": "[encoded data removed]",
      "text/plain": [
       "<Figure size 640x480 with 1 Axes>"
      ]
     },
     "metadata": {},
     "output_type": "display_data"
    },
    {
     "name": "stdout",
     "output_type": "stream",
     "text": [
      "Variant A performed p_A = 2.00% while p_B = 2.12%.\n",
      "p_B is +0.12pp higher than p_A.\n",
      "You can be 95% confident that this is a result of the changes you made and not a result of random chance.\n"
     ]
    }
   ],
   "source": [
    "explain_prob_B_higher(df, 0)"
   ]
  },
  {
   "cell_type": "code",
   "execution_count": 13,
   "id": "294e94bf-d825-42a1-8c2a-6e04aa3aa463",
   "metadata": {
    "tags": []
   },
   "outputs": [
    {
     "data": {
      "image/png": "[encoded data removed]",
      "text/plain": [
       "<Figure size 640x480 with 1 Axes>"
      ]
     },
     "metadata": {},
     "output_type": "display_data"
    },
    {
     "name": "stdout",
     "output_type": "stream",
     "text": [
      "Variant A performed p_A = 12.00% while p_B = 9.00%.\n",
      "p_B is -3.0pp lower than p_A.\n",
      "You can be 99% confident that this is a result of the changes you made and not a result of random chance.\n"
     ]
    }
   ],
   "source": [
    "explain_prob_B_higher(df, 1)"
   ]
  },
  {
   "cell_type": "code",
   "execution_count": null,
   "id": "fe9bfeeb-cb0f-44eb-b7cf-8baefd5eed7c",
   "metadata": {},
   "outputs": [],
   "source": []
  }
 ],
 "metadata": {
  "kernelspec": {
   "display_name": "Python 3 (ipykernel)",
   "language": "python",
   "name": "python3"
  },
  "language_info": {
   "codemirror_mode": {
    "name": "ipython",
    "version": 3
   },
   "file_extension": ".py",
   "mimetype": "text/x-python",
   "name": "python",
   "nbconvert_exporter": "python",
   "pygments_lexer": "ipython3",
   "version": "3.11.3"
  }
 },
 "nbformat": 4,
 "nbformat_minor": 5
}
